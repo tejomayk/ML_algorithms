{
 "cells": [
  {
   "cell_type": "code",
   "execution_count": 1,
   "id": "54113e7a",
   "metadata": {},
   "outputs": [],
   "source": [
    "import numpy as np\n",
    "import matplotlib.pyplot as plt\n"
   ]
  },
  {
   "cell_type": "markdown",
   "id": "048691fa",
   "metadata": {},
   "source": [
    "Step 1: Create a synthetic dataset to check if the code works"
   ]
  },
  {
   "cell_type": "code",
   "execution_count": 2,
   "id": "9916a106",
   "metadata": {},
   "outputs": [],
   "source": [
    "true_w = 2.5\n",
    "true_b = 2.831"
   ]
  },
  {
   "cell_type": "code",
   "execution_count": 3,
   "id": "bbc00ba2",
   "metadata": {},
   "outputs": [],
   "source": [
    "np.random.seed(42)\n",
    "X = np.random.randn(100,1) #create feature\n",
    "y = X * true_w + true_b #create values\n",
    "np.random.seed(42)\n",
    "y += (np.random.randn(100,1) * 0.1) #add noise"
   ]
  },
  {
   "cell_type": "markdown",
   "id": "6806caf1",
   "metadata": {},
   "source": [
    "Step 2: Test the fit method"
   ]
  },
  {
   "cell_type": "code",
   "execution_count": 4,
   "id": "7702ba2f",
   "metadata": {},
   "outputs": [],
   "source": [
    "from main import LinearRegression"
   ]
  },
  {
   "cell_type": "code",
   "execution_count": 5,
   "id": "997e0db0",
   "metadata": {},
   "outputs": [],
   "source": [
    "linear_regression = LinearRegression(learning_rate=0.1, epochs=1)"
   ]
  },
  {
   "cell_type": "code",
   "execution_count": 6,
   "id": "0474c693",
   "metadata": {},
   "outputs": [
    {
     "data": {
      "text/plain": [
       "<main.LinearRegression at 0x2a3f90e41a0>"
      ]
     },
     "execution_count": 6,
     "metadata": {},
     "output_type": "execute_result"
    }
   ],
   "source": [
    "linear_regression.fit(X, y)"
   ]
  },
  {
   "cell_type": "code",
   "execution_count": 7,
   "id": "2b05711f",
   "metadata": {},
   "outputs": [
    {
     "name": "stdout",
     "output_type": "stream",
     "text": [
      "[2.59967675] [2.83087242]\n"
     ]
    }
   ],
   "source": [
    "print(linear_regression.weights, linear_regression.bias)"
   ]
  },
  {
   "cell_type": "code",
   "execution_count": 8,
   "id": "c4d27b69",
   "metadata": {},
   "outputs": [],
   "source": [
    "linear_regression_normal = LinearRegression()"
   ]
  },
  {
   "cell_type": "code",
   "execution_count": 9,
   "id": "1fdb56f1",
   "metadata": {},
   "outputs": [
    {
     "data": {
      "text/plain": [
       "<main.LinearRegression at 0x2a3f90e0910>"
      ]
     },
     "execution_count": 9,
     "metadata": {},
     "output_type": "execute_result"
    }
   ],
   "source": [
    "linear_regression_normal.fit_normal(X,y)"
   ]
  },
  {
   "cell_type": "code",
   "execution_count": 10,
   "id": "159bdd99",
   "metadata": {},
   "outputs": [
    {
     "name": "stdout",
     "output_type": "stream",
     "text": [
      "[[2.6]] [2.831]\n"
     ]
    }
   ],
   "source": [
    "print(linear_regression_normal.weights, linear_regression_normal.bias)"
   ]
  },
  {
   "cell_type": "code",
   "execution_count": 13,
   "id": "65fe0f8b",
   "metadata": {},
   "outputs": [],
   "source": [
    "predictions = linear_regression.predict(X)"
   ]
  },
  {
   "cell_type": "code",
   "execution_count": null,
   "id": "ff6d61d5",
   "metadata": {},
   "outputs": [
    {
     "data": {
      "text/plain": [
       "[<matplotlib.lines.Line2D at 0x2a3fb46f4d0>]"
      ]
     },
     "execution_count": 16,
     "metadata": {},
     "output_type": "execute_result"
    },
    {
     "data": {
      "image/png": "[encoded data removed]",
      "text/plain": [
       "<Figure size 640x480 with 1 Axes>"
      ]
     },
     "metadata": {},
     "output_type": "display_data"
    }
   ],
   "source": [
    "plt.scatter(X,y)\n",
    "plt.plot(X,predictions)"
   ]
  },
  {
   "cell_type": "code",
   "execution_count": null,
   "id": "34a09eea",
   "metadata": {},
   "outputs": [],
   "source": []
  }
 ],
 "metadata": {
  "kernelspec": {
   "display_name": "ML_algorithms",
   "language": "python",
   "name": "python3"
  },
  "language_info": {
   "codemirror_mode": {
    "name": "ipython",
    "version": 3
   },
   "file_extension": ".py",
   "mimetype": "text/x-python",
   "name": "python",
   "nbconvert_exporter": "python",
   "pygments_lexer": "ipython3",
   "version": "3.13.1"
  }
 },
 "nbformat": 4,
 "nbformat_minor": 5
}
